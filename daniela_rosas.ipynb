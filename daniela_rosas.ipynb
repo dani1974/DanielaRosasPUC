{
  "nbformat": 4,
  "nbformat_minor": 0,
  "metadata": {
    "colab": {
      "provenance": [],
      "gpuType": "T4",
      "name": "daniela_rosas.ipynb",
      "authorship_tag": "ABX9TyNo7TqDc2hxCVJlP8O72uyE",
      "include_colab_link": true
    },
    "kernelspec": {
      "name": "python3",
      "display_name": "Python 3"
    },
    "language_info": {
      "name": "python"
    },
    "accelerator": "GPU"
  },
  "cells": [
    {
      "cell_type": "markdown",
      "metadata": {
        "id": "view-in-github",
        "colab_type": "text"
      },
      "source": [
        "<a href=\"https://colab.research.google.com/github/dani1974/DanielaRosasPUC/blob/main/daniela_rosas.ipynb\" target=\"_parent\"><img src=\"https://colab.research.google.com/assets/colab-badge.svg\" alt=\"Open In Colab\"/></a>"
      ]
    },
    {
      "cell_type": "markdown",
      "source": [
        "**Descreva o seu dataset (atributos, imagens, anotações, etc).**\n",
        "\n",
        "  Fashion-MNIST é um conjunto de dados de imagens de artigos de Zalando, consistindo em um conjunto de treinamento de 60.000 exemplos e um conjunto de teste de 10.000 exemplos. Cada exemplo é uma imagem em tons de cinza 28x28, associada a um rótulo de 10 classes. Zalando pretende que o Fashion-MNIST sirva como um substituto direto para o conjunto de dados MNIST original para algoritmos de aprendizado de máquina de benchmarking. Ele compartilha o mesmo tamanho de imagem e estrutura de divisões de treinamento e teste.\n",
        "\n",
        "  Cada imagem tem 28 pixels de altura e 28 pixels de largura, totalizando 784 pixels. Cada pixel tem um único valor de pixel associado a ele, indicando a claridade ou escuridão desse pixel, com números mais altos significando mais escuro. Esse valor de pixel é um número inteiro entre 0 e 255. Os conjuntos de dados de treinamento e teste têm 785 colunas. A primeira coluna consiste nos rótulos de classe (veja acima) e representa o artigo de vestuário. O restante das colunas contém os valores de pixel da imagem associada.\n",
        "\n",
        "Para localizar um pixel na imagem, suponha que tenhamos decomposto x como x = i * 28 + j, onde i e j são inteiros entre 0 e 27. O pixel está localizado na linha i e coluna j de uma matriz 28 x 28 .\n",
        "Por exemplo, pixel31 indica o pixel que está na quarta coluna a partir da esquerda, e a segunda linha a partir do topo, como no diagrama ASCII abaixo.\n",
        "\n",
        "  Cada exemplo de treinamento e teste é atribuído a um dos seguintes rótulos:\n",
        "\n",
        "0 camiseta/top\n",
        "\n",
        "1 Calça\n",
        "\n",
        "2 Pulôver\n",
        "\n",
        "3 vestido\n",
        "\n",
        "4 Casaco\n",
        "\n",
        "5 Sandália\n",
        "\n",
        "6 camisa\n",
        "\n",
        "7 tênis\n",
        "\n",
        "8 bolsas\n",
        "\n",
        "9 Tornozelo\n",
        "\n",
        "# **Convolutional Neural Networks**"
      ],
      "metadata": {
        "id": "faCQJaZGgQNJ"
      }
    },
    {
      "cell_type": "markdown",
      "source": [
        "## **1. Preparing the input data**"
      ],
      "metadata": {
        "id": "ZsHqHCssiwDB"
      }
    },
    {
      "cell_type": "code",
      "source": [
        "from tensorflow.keras.datasets import fashion_mnist"
      ],
      "metadata": {
        "id": "dkNsPnh-pNky"
      },
      "execution_count": null,
      "outputs": []
    },
    {
      "cell_type": "code",
      "source": [
        "(X_train, y_train), (X_test, y_test) =  fashion_mnist.load_data()"
      ],
      "metadata": {
        "colab": {
          "base_uri": "https://localhost:8080/"
        },
        "id": "_F3CpuDQivZC",
        "outputId": "4b59fda3-38ff-4e80-97e0-f618deeb5693"
      },
      "execution_count": null,
      "outputs": [
        {
          "output_type": "stream",
          "name": "stdout",
          "text": [
            "Downloading data from https://storage.googleapis.com/tensorflow/tf-keras-datasets/train-labels-idx1-ubyte.gz\n",
            "29515/29515 [==============================] - 0s 1us/step\n",
            "Downloading data from https://storage.googleapis.com/tensorflow/tf-keras-datasets/train-images-idx3-ubyte.gz\n",
            "26421880/26421880 [==============================] - 2s 0us/step\n",
            "Downloading data from https://storage.googleapis.com/tensorflow/tf-keras-datasets/t10k-labels-idx1-ubyte.gz\n",
            "5148/5148 [==============================] - 0s 0us/step\n",
            "Downloading data from https://storage.googleapis.com/tensorflow/tf-keras-datasets/t10k-images-idx3-ubyte.gz\n",
            "4422102/4422102 [==============================] - 1s 0us/step\n"
          ]
        }
      ]
    },
    {
      "cell_type": "code",
      "source": [
        "X_train.shape # treino com 60 mil imagens de 28x28 pixels"
      ],
      "metadata": {
        "colab": {
          "base_uri": "https://localhost:8080/"
        },
        "id": "hyWVJYLarsVs",
        "outputId": "8aa8e78d-8214-4d3f-f6c6-3291778c9925"
      },
      "execution_count": null,
      "outputs": [
        {
          "output_type": "execute_result",
          "data": {
            "text/plain": [
              "(60000, 28, 28)"
            ]
          },
          "metadata": {},
          "execution_count": 12
        }
      ]
    },
    {
      "cell_type": "code",
      "source": [
        "X_test.shape # treino com 10 mil imagens de 28x28 pixels"
      ],
      "metadata": {
        "colab": {
          "base_uri": "https://localhost:8080/"
        },
        "id": "tJCS38JvsZ6C",
        "outputId": "b366453c-3ef8-46f1-8c45-c10fa2486a65"
      },
      "execution_count": null,
      "outputs": [
        {
          "output_type": "execute_result",
          "data": {
            "text/plain": [
              "(10000, 28, 28)"
            ]
          },
          "metadata": {},
          "execution_count": 13
        }
      ]
    },
    {
      "cell_type": "code",
      "source": [
        "y_train"
      ],
      "metadata": {
        "colab": {
          "base_uri": "https://localhost:8080/"
        },
        "id": "1qVZnSKktrdj",
        "outputId": "9ecaa0b3-b42d-47c6-cafa-355dfa2117b9"
      },
      "execution_count": null,
      "outputs": [
        {
          "output_type": "execute_result",
          "data": {
            "text/plain": [
              "array([9, 0, 0, ..., 3, 0, 5], dtype=uint8)"
            ]
          },
          "metadata": {},
          "execution_count": 14
        }
      ]
    },
    {
      "cell_type": "code",
      "source": [
        "y_train[0]"
      ],
      "metadata": {
        "colab": {
          "base_uri": "https://localhost:8080/"
        },
        "id": "zE7ASBx15mH1",
        "outputId": "a5b25055-ae63-4f4a-ed3a-b90ecb49ddc6"
      },
      "execution_count": null,
      "outputs": [
        {
          "output_type": "execute_result",
          "data": {
            "text/plain": [
              "9"
            ]
          },
          "metadata": {},
          "execution_count": 15
        }
      ]
    },
    {
      "cell_type": "code",
      "source": [
        "import matplotlib.pyplot as plt\n",
        "\n",
        "i=100\n",
        "plt.imshow(X_train[i], cmap='gray')\n",
        "plt.title(\"Label\" + str(y_train[i]))\n",
        "plt.show()\n"
      ],
      "metadata": {
        "colab": {
          "base_uri": "https://localhost:8080/",
          "height": 452
        },
        "id": "zS-gucvR5uFr",
        "outputId": "d746a6a8-c6dc-4baa-bb7e-dd9699fcd24a"
      },
      "execution_count": null,
      "outputs": [
        {
          "output_type": "display_data",
          "data": {
            "text/plain": [
              "<Figure size 640x480 with 1 Axes>"
            ],
            "image/png": "[encoded data removed]"
          },
          "metadata": {}
        }
      ]
    },
    {
      "cell_type": "markdown",
      "source": [
        "## **Normalizarção dos dados usando a padronização**\n",
        "\n",
        "Padrozação vai forças os dados centralizados em zero, média = 0 e Desvio Padrão=1.\n",
        "\n",
        "A importancia da escalabilidade para as redes neurais é ter os dados na mesma escala com o objetico de atualizar os pessos no sentido aonde minimiza essse erro e essa atualização vai ser mais suave sem vies, outro motivo é a inicialização, dos pesos são inicializados aleatoriamente, uma distribuição normal entorno de zero.\n"
      ],
      "metadata": {
        "id": "XCd8ydRp-xd0"
      }
    },
    {
      "cell_type": "markdown",
      "source": [
        "**Padronização do conjunto de dados do Treinamento**"
      ],
      "metadata": {
        "id": "2V1l43T1C9uD"
      }
    },
    {
      "cell_type": "code",
      "source": [
        "#média do treino\n",
        "x_mean = X_train.mean()\n",
        "x_mean"
      ],
      "metadata": {
        "colab": {
          "base_uri": "https://localhost:8080/"
        },
        "id": "8iPonJCG-939",
        "outputId": "de268b23-59bc-4764-8f5d-a9f0f62afbd2"
      },
      "execution_count": null,
      "outputs": [
        {
          "output_type": "execute_result",
          "data": {
            "text/plain": [
              "72.94035223214286"
            ]
          },
          "metadata": {},
          "execution_count": 17
        }
      ]
    },
    {
      "cell_type": "code",
      "source": [
        "# desvio padrão treino\n",
        "x_std = X_train.std()\n",
        "x_std"
      ],
      "metadata": {
        "colab": {
          "base_uri": "https://localhost:8080/"
        },
        "id": "v09Y-Jps_DLJ",
        "outputId": "91714d2f-8b96-427e-ba5c-3ad4fb8bf057"
      },
      "execution_count": null,
      "outputs": [
        {
          "output_type": "execute_result",
          "data": {
            "text/plain": [
              "90.02118235130519"
            ]
          },
          "metadata": {},
          "execution_count": 18
        }
      ]
    },
    {
      "cell_type": "code",
      "source": [
        "# Padronização dos dados do treino\n",
        "X_train_norm = (X_train-x_mean)/x_std"
      ],
      "metadata": {
        "id": "q89Kbh8D_D6S"
      },
      "execution_count": null,
      "outputs": []
    },
    {
      "cell_type": "code",
      "source": [
        "X_train_norm.std()"
      ],
      "metadata": {
        "colab": {
          "base_uri": "https://localhost:8080/"
        },
        "id": "M-eMKrVoCyy2",
        "outputId": "39605142-960f-44c8-ed61-63a21393d2e2"
      },
      "execution_count": null,
      "outputs": [
        {
          "output_type": "execute_result",
          "data": {
            "text/plain": [
              "1.0"
            ]
          },
          "metadata": {},
          "execution_count": 20
        }
      ]
    },
    {
      "cell_type": "markdown",
      "source": [
        "**Padronização do conjunto de dados do Teste**"
      ],
      "metadata": {
        "id": "CAwlOjvRDJa9"
      }
    },
    {
      "cell_type": "code",
      "source": [
        "#média do teste\n",
        "X_test.mean()"
      ],
      "metadata": {
        "colab": {
          "base_uri": "https://localhost:8080/"
        },
        "id": "btZycQBjDNcF",
        "outputId": "25ccc4d9-6bb9-45c5-bfda-65d109dbb281"
      },
      "execution_count": null,
      "outputs": [
        {
          "output_type": "execute_result",
          "data": {
            "text/plain": [
              "73.14656658163265"
            ]
          },
          "metadata": {},
          "execution_count": 21
        }
      ]
    },
    {
      "cell_type": "code",
      "source": [
        "# desvio padrão treino\n",
        "X_test.std()"
      ],
      "metadata": {
        "colab": {
          "base_uri": "https://localhost:8080/"
        },
        "id": "z5OMK4iDXxNn",
        "outputId": "e2f26515-bd16-43c4-9555-f6e35a2cc5bc"
      },
      "execution_count": null,
      "outputs": [
        {
          "output_type": "execute_result",
          "data": {
            "text/plain": [
              "89.87325907809718"
            ]
          },
          "metadata": {},
          "execution_count": 22
        }
      ]
    },
    {
      "cell_type": "code",
      "source": [
        "# Padronização dos dados do Teste\n",
        "X_test_norm = (X_test-x_mean)/x_std"
      ],
      "metadata": {
        "id": "rPQpSgcnhQ6x"
      },
      "execution_count": null,
      "outputs": []
    },
    {
      "cell_type": "code",
      "source": [
        "X_train_norm.std()"
      ],
      "metadata": {
        "colab": {
          "base_uri": "https://localhost:8080/"
        },
        "id": "DFCDULbCkImg",
        "outputId": "0f3dbc64-bae2-4c92-a9ab-8dc99e236938"
      },
      "execution_count": null,
      "outputs": [
        {
          "output_type": "execute_result",
          "data": {
            "text/plain": [
              "1.0"
            ]
          },
          "metadata": {},
          "execution_count": 24
        }
      ]
    },
    {
      "cell_type": "markdown",
      "source": [
        "### **2. Treinamento usando apenas camadas totalmente conectadas primeiro**\n",
        "\n"
      ],
      "metadata": {
        "id": "jusMpPdvkWdu"
      }
    },
    {
      "cell_type": "code",
      "source": [
        "from tensorflow.keras.models import Sequential # classe sequencial de camadas para construir o modelo\n",
        "from tensorflow.keras.layers import Dense, Flatten # 2 tipos de camadas    1) Dense -A camada densamente conectada   2) Flatten -A camada para achatar 28x28 para trasnformar para 1 dimensão"
      ],
      "metadata": {
        "id": "Pq4hkn5blKC_"
      },
      "execution_count": null,
      "outputs": []
    },
    {
      "cell_type": "code",
      "source": [
        "\n",
        "model = Sequential([\n",
        "                    Flatten(input_shape=(28, 28)),  # achatar as imagens de 28x28\n",
        "                    Dense(400, activation='relu'), # camadas ocultas com o relu e 400 neuronios\n",
        "                    Dense(10, activation='softmax') # 10 classes com softmax como função de  ativação na saida\n",
        "  ])"
      ],
      "metadata": {
        "id": "RLF7d7TDLn-r"
      },
      "execution_count": null,
      "outputs": []
    },
    {
      "cell_type": "code",
      "source": [
        "model.summary()"
      ],
      "metadata": {
        "colab": {
          "base_uri": "https://localhost:8080/"
        },
        "id": "zEuyEc-nSlm9",
        "outputId": "ccaac9fb-ac3c-488c-8cb6-2996ce69ae36"
      },
      "execution_count": null,
      "outputs": [
        {
          "output_type": "stream",
          "name": "stdout",
          "text": [
            "Model: \"sequential\"\n",
            "_________________________________________________________________\n",
            " Layer (type)                Output Shape              Param #   \n",
            "=================================================================\n",
            " flatten (Flatten)           (None, 784)               0         \n",
            "                                                                 \n",
            " dense (Dense)               (None, 400)               314000    \n",
            "                                                                 \n",
            " dense_1 (Dense)             (None, 10)                4010      \n",
            "                                                                 \n",
            "=================================================================\n",
            "Total params: 318,010\n",
            "Trainable params: 318,010\n",
            "Non-trainable params: 0\n",
            "_________________________________________________________________\n"
          ]
        }
      ]
    },
    {
      "cell_type": "markdown",
      "source": [
        "### **compilar o modelo**\n"
      ],
      "metadata": {
        "id": "LgepG32HVp1Z"
      }
    },
    {
      "cell_type": "code",
      "source": [
        "# compilar o modelo com a função objetivo ou função de erro ou função de custo e o otimizador\n",
        "\n",
        "model.compile(optimizer='adam', # otimizador com o algoritmo adam\n",
        "              loss='sparse_categorical_crossentropy', # função de custo ou de erro,função que a rede neural quer minimizar, como meu y_train são numeros inteiros usei a função sparse_categorical_crossentropy\n",
        "              metrics=['accuracy'] # avaliar os resultados\n",
        "              )"
      ],
      "metadata": {
        "id": "f2k3YCi0S7Qm"
      },
      "execution_count": null,
      "outputs": []
    },
    {
      "cell_type": "markdown",
      "source": [
        "### **Treinar o modelo**"
      ],
      "metadata": {
        "id": "PzdhUIBDVyJd"
      }
    },
    {
      "cell_type": "code",
      "source": [
        "hist = model.fit(X_train_norm,  y_train,\n",
        "          validation_data=(X_test_norm, y_test),\n",
        "          epochs=1)"
      ],
      "metadata": {
        "colab": {
          "base_uri": "https://localhost:8080/"
        },
        "id": "z6Qlw0rhTf2Y",
        "outputId": "b241559f-bc53-4cf0-b375-b1531e76c542"
      },
      "execution_count": null,
      "outputs": [
        {
          "output_type": "stream",
          "name": "stdout",
          "text": [
            "1875/1875 [==============================] - 11s 3ms/step - loss: 0.4495 - accuracy: 0.8368 - val_loss: 0.4071 - val_accuracy: 0.8522\n"
          ]
        }
      ]
    },
    {
      "cell_type": "code",
      "source": [
        "hist.history"
      ],
      "metadata": {
        "colab": {
          "base_uri": "https://localhost:8080/"
        },
        "id": "DpHPauMMXjPf",
        "outputId": "0c7323d2-507d-4be0-9027-9c7b1c5a599e"
      },
      "execution_count": null,
      "outputs": [
        {
          "output_type": "execute_result",
          "data": {
            "text/plain": [
              "{'loss': [0.4487694799900055, 0.34629762172698975, 0.3129619061946869],\n",
              " 'accuracy': [0.8380166888237, 0.8722166419029236, 0.8832333087921143],\n",
              " 'val_loss': [0.4016191065311432, 0.39110493659973145, 0.3782033324241638],\n",
              " 'val_accuracy': [0.8547999858856201, 0.8580999970436096, 0.8650000095367432]}"
            ]
          },
          "metadata": {},
          "execution_count": 20
        }
      ]
    },
    {
      "cell_type": "code",
      "source": [
        "import pandas as pd\n",
        "df=pd.DataFrame(hist.history)\n",
        "df[['accuracy', 'val_accuracy']].plot()"
      ],
      "metadata": {
        "colab": {
          "base_uri": "https://localhost:8080/",
          "height": 447
        },
        "id": "M-3bbF3JW0IC",
        "outputId": "96c8087a-3126-4438-d797-f2d00e35d196"
      },
      "execution_count": null,
      "outputs": [
        {
          "output_type": "execute_result",
          "data": {
            "text/plain": [
              "<Axes: >"
            ]
          },
          "metadata": {},
          "execution_count": 23
        },
        {
          "output_type": "display_data",
          "data": {
            "text/plain": [
              "<Figure size 640x480 with 1 Axes>"
            ],
            "image/png": "[encoded data removed]"
          },
          "metadata": {}
        }
      ]
    },
    {
      "cell_type": "code",
      "source": [
        "df[['loss', 'val_loss']].plot() # função de custo"
      ],
      "metadata": {
        "colab": {
          "base_uri": "https://localhost:8080/",
          "height": 447
        },
        "id": "xpWysTo6W2Mk",
        "outputId": "2d6a8373-e175-4a08-8b3c-a0f70dad515e"
      },
      "execution_count": null,
      "outputs": [
        {
          "output_type": "execute_result",
          "data": {
            "text/plain": [
              "<Axes: >"
            ]
          },
          "metadata": {},
          "execution_count": 27
        },
        {
          "output_type": "display_data",
          "data": {
            "text/plain": [
              "<Figure size 640x480 with 1 Axes>"
            ],
            "image/png": "[encoded data removed]"
          },
          "metadata": {}
        }
      ]
    },
    {
      "cell_type": "markdown",
      "source": [
        "## **Extending to CNNs com Tensorflow**"
      ],
      "metadata": {
        "id": "i3aEh9mrZtKw"
      }
    },
    {
      "cell_type": "code",
      "source": [
        "from tensorflow.keras.layers import MaxPool2D\n",
        "from tensorflow.keras.layers import Conv2D # rede convolucional em 2d\n",
        "\n",
        "model = Sequential([\n",
        "                    Conv2D(6, kernel_size=(3,3), input_shape=(28, 28, 1), activation='relu'), #input_shape=(28, 28, 1) = ele vai pedir 3 dim que é a dos canais as cores; numero de filtros=6;tamanho do kernel = kernel_size=(3,3);activation='relu'\n",
        "                    Flatten(),\n",
        "                    Dense(10, activation='softmax')\n",
        "])"
      ],
      "metadata": {
        "id": "UixYmgL_q1hS"
      },
      "execution_count": null,
      "outputs": []
    },
    {
      "cell_type": "code",
      "source": [
        "model.summary()"
      ],
      "metadata": {
        "colab": {
          "base_uri": "https://localhost:8080/"
        },
        "id": "BTVdkhZ_tS8i",
        "outputId": "6b6c876e-b9ca-40c4-bad8-8573518c0164"
      },
      "execution_count": null,
      "outputs": [
        {
          "output_type": "stream",
          "name": "stdout",
          "text": [
            "Model: \"sequential\"\n",
            "_________________________________________________________________\n",
            " Layer (type)                Output Shape              Param #   \n",
            "=================================================================\n",
            " conv2d (Conv2D)             (None, 26, 26, 6)         60        \n",
            "                                                                 \n",
            " flatten (Flatten)           (None, 4056)              0         \n",
            "                                                                 \n",
            " dense (Dense)               (None, 10)                40570     \n",
            "                                                                 \n",
            "=================================================================\n",
            "Total params: 40,630\n",
            "Trainable params: 40,630\n",
            "Non-trainable params: 0\n",
            "_________________________________________________________________\n"
          ]
        }
      ]
    },
    {
      "cell_type": "code",
      "source": [
        "from tensorflow.keras.layers import MaxPool2D\n",
        "from tensorflow.keras.layers import Conv2D # rede convolucional em 2d\n",
        "\n",
        "model = Sequential([\n",
        "                    Conv2D(6, kernel_size=(3,3), input_shape=(28, 28, 1), activation='relu'),# 2 dim do kernel / entrada 28x28 e saida 26x26\n",
        "                    MaxPool2D(),# # camada max pooling vai diminuindo pela metade = em seguida ele vai reduzir 26x26 pela metade ficando 13x13 = camada convolucional de max pooling reduzir a dim da imagem pela metade com a implementação de mais filtros por camada\n",
        "                    Conv2D(16, kernel_size=(3,3), activation='relu'), # passar mais uma vez o filtro convolucional perdendo 2 pixel pela varredura = camada convolucional com 16 filtros\n",
        "                    MaxPool2D(), # mais um maxpooling para diminuir pela metade /vai reduzir mais uma vez a dim pela metade\n",
        "                    Flatten(),#  vai achatar\n",
        "                    Dense(120, activation='relu'),# passar pelas camadas densamente conectadas\n",
        "                    Dense(100, activation='relu'),\n",
        "                    Dense(10, activation='softmax')\n",
        "])"
      ],
      "metadata": {
        "id": "irPYRjm5Zwy4"
      },
      "execution_count": null,
      "outputs": []
    },
    {
      "cell_type": "code",
      "source": [
        "model.summary()"
      ],
      "metadata": {
        "colab": {
          "base_uri": "https://localhost:8080/"
        },
        "id": "eR5FhRme0_-b",
        "outputId": "6fd44ea6-2f68-4e1e-ad88-19f222da3222"
      },
      "execution_count": null,
      "outputs": [
        {
          "output_type": "stream",
          "name": "stdout",
          "text": [
            "Model: \"sequential_5\"\n",
            "_________________________________________________________________\n",
            " Layer (type)                Output Shape              Param #   \n",
            "=================================================================\n",
            " conv2d_6 (Conv2D)           (None, 26, 26, 6)         60        \n",
            "                                                                 \n",
            " max_pooling2d_4 (MaxPooling  (None, 13, 13, 6)        0         \n",
            " 2D)                                                             \n",
            "                                                                 \n",
            " conv2d_7 (Conv2D)           (None, 11, 11, 16)        880       \n",
            "                                                                 \n",
            " max_pooling2d_5 (MaxPooling  (None, 5, 5, 16)         0         \n",
            " 2D)                                                             \n",
            "                                                                 \n",
            " flatten_5 (Flatten)         (None, 400)               0         \n",
            "                                                                 \n",
            " dense_10 (Dense)            (None, 120)               48120     \n",
            "                                                                 \n",
            " dense_11 (Dense)            (None, 100)               12100     \n",
            "                                                                 \n",
            " dense_12 (Dense)            (None, 10)                1010      \n",
            "                                                                 \n",
            "=================================================================\n",
            "Total params: 62,170\n",
            "Trainable params: 62,170\n",
            "Non-trainable params: 0\n",
            "_________________________________________________________________\n"
          ]
        }
      ]
    },
    {
      "cell_type": "code",
      "source": [
        "model.compile(optimizer='adam', # otimizador com o algoritmo adam\n",
        "              loss='sparse_categorical_crossentropy', # função de custo ou de erro,função que a rede neural quer minimizar, como meu y_train são numeros inteiros usei a função sparse_categorical_crossentropy\n",
        "              metrics=['accuracy'] # avaliar os resultados\n",
        "              )"
      ],
      "metadata": {
        "id": "BxaTHfkhtsEf"
      },
      "execution_count": null,
      "outputs": []
    },
    {
      "cell_type": "code",
      "source": [
        "hist = model.fit(X_train_norm,\n",
        "          y_train,\n",
        "          validation_data=(X_test_norm, y_test),\n",
        "          epochs=5)"
      ],
      "metadata": {
        "colab": {
          "base_uri": "https://localhost:8080/"
        },
        "id": "5lEPIwRM7Fi4",
        "outputId": "1a5d8827-658c-4586-f9ba-eda2bdcafd69"
      },
      "execution_count": null,
      "outputs": [
        {
          "output_type": "stream",
          "name": "stdout",
          "text": [
            "Epoch 1/5\n",
            "1875/1875 [==============================] - 15s 5ms/step - loss: 0.4946 - accuracy: 0.8155 - val_loss: 0.3857 - val_accuracy: 0.8616\n",
            "Epoch 2/5\n",
            "1875/1875 [==============================] - 8s 4ms/step - loss: 0.3544 - accuracy: 0.8684 - val_loss: 0.3574 - val_accuracy: 0.8695\n",
            "Epoch 3/5\n",
            "1875/1875 [==============================] - 9s 5ms/step - loss: 0.3143 - accuracy: 0.8825 - val_loss: 0.3526 - val_accuracy: 0.8684\n",
            "Epoch 4/5\n",
            "1875/1875 [==============================] - 8s 4ms/step - loss: 0.2857 - accuracy: 0.8934 - val_loss: 0.3073 - val_accuracy: 0.8876\n",
            "Epoch 5/5\n",
            "1875/1875 [==============================] - 9s 5ms/step - loss: 0.2642 - accuracy: 0.9014 - val_loss: 0.3152 - val_accuracy: 0.8830\n"
          ]
        }
      ]
    },
    {
      "cell_type": "code",
      "source": [
        "x=X_test_norm[0].reshape(1, 28, 28, 1)"
      ],
      "metadata": {
        "id": "V3DMAPhB4KCl"
      },
      "execution_count": null,
      "outputs": []
    },
    {
      "cell_type": "code",
      "source": [
        "X_train_norm = X_train_norm.reshape(60000, 28, 28,1)\n",
        "X_test_norm = X_test_norm.reshape(10000, 28, 28,1) # pode colocar -1 no lugare do 100000 para pegar todo o conjunto de teste"
      ],
      "metadata": {
        "id": "-br8D3K9t7PG"
      },
      "execution_count": null,
      "outputs": []
    },
    {
      "cell_type": "code",
      "source": [
        "X_test_norm.shape"
      ],
      "metadata": {
        "colab": {
          "base_uri": "https://localhost:8080/"
        },
        "id": "3zhmLxDhupDT",
        "outputId": "7c4dab12-4a43-4278-f21a-a8aa0e364bca"
      },
      "execution_count": null,
      "outputs": [
        {
          "output_type": "execute_result",
          "data": {
            "text/plain": [
              "(10000, 28, 28, 1)"
            ]
          },
          "metadata": {},
          "execution_count": 39
        }
      ]
    },
    {
      "cell_type": "markdown",
      "source": [
        "depoois que o mdoelo esta treinado vc pode predizer"
      ],
      "metadata": {
        "id": "IGS7TiIF1HfE"
      }
    },
    {
      "cell_type": "code",
      "source": [
        "plt.imshow(x.reshape(28, 28), cmap='gray')\n",
        "pred = model.predict(x)\n",
        "idx = pred.argmax()\n"
      ],
      "metadata": {
        "colab": {
          "base_uri": "https://localhost:8080/",
          "height": 447
        },
        "id": "jC0SAaEe3uxh",
        "outputId": "a1e5f75c-964b-4231-d8cd-72b4352ba0e2"
      },
      "execution_count": null,
      "outputs": [
        {
          "output_type": "stream",
          "name": "stdout",
          "text": [
            "1/1 [==============================] - 0s 307ms/step\n"
          ]
        },
        {
          "output_type": "display_data",
          "data": {
            "text/plain": [
              "<Figure size 640x480 with 1 Axes>"
            ],
            "image/png": "[encoded data removed]"
          },
          "metadata": {}
        }
      ]
    },
    {
      "cell_type": "code",
      "source": [
        "for idx in range(5):\n",
        "    x=X_test_norm[idx].reshape(1, 28, 28, 1)\n",
        "    plt.imshow(x.reshape(28, 28), cmap='gray')\n",
        "    pred = model.predict(x)\n",
        "    pred_class = pred.argmax()\n",
        "    plt.title(f'True {y_test[idx]}, Pred: {pred_class}, Proba: {pred[0][pred_class]*100:.2f}%')\n",
        "    plt.show()\n"
      ],
      "metadata": {
        "colab": {
          "base_uri": "https://localhost:8080/",
          "height": 1000
        },
        "id": "EwMSE59Y3n8u",
        "outputId": "d81ac3a7-a627-4fea-b794-958d6f0c9bc5"
      },
      "execution_count": null,
      "outputs": [
        {
          "output_type": "stream",
          "name": "stdout",
          "text": [
            "1/1 [==============================] - 0s 18ms/step\n"
          ]
        },
        {
          "output_type": "display_data",
          "data": {
            "text/plain": [
              "<Figure size 640x480 with 1 Axes>"
            ],
            "image/png": "[encoded data removed]"
          },
          "metadata": {}
        },
        {
          "output_type": "stream",
          "name": "stdout",
          "text": [
            "1/1 [==============================] - 0s 18ms/step\n"
          ]
        },
        {
          "output_type": "display_data",
          "data": {
            "text/plain": [
              "<Figure size 640x480 with 1 Axes>"
            ],
            "image/png": "[encoded data removed]"
          },
          "metadata": {}
        },
        {
          "output_type": "stream",
          "name": "stdout",
          "text": [
            "1/1 [==============================] - 0s 32ms/step\n"
          ]
        },
        {
          "output_type": "display_data",
          "data": {
            "text/plain": [
              "<Figure size 640x480 with 1 Axes>"
            ],
            "image/png": "[encoded data removed]"
          },
          "metadata": {}
        },
        {
          "output_type": "stream",
          "name": "stdout",
          "text": [
            "1/1 [==============================] - 0s 28ms/step\n"
          ]
        },
        {
          "output_type": "display_data",
          "data": {
            "text/plain": [
              "<Figure size 640x480 with 1 Axes>"
            ],
            "image/png": "[encoded data removed]"
          },
          "metadata": {}
        },
        {
          "output_type": "stream",
          "name": "stdout",
          "text": [
            "1/1 [==============================] - 0s 28ms/step\n"
          ]
        },
        {
          "output_type": "display_data",
          "data": {
            "text/plain": [
              "<Figure size 640x480 with 1 Axes>"
            ],
            "image/png": "[encoded data removed]"
          },
          "metadata": {}
        }
      ]
    },
    {
      "cell_type": "markdown",
      "source": [
        "**olhando outros detalhes na rede**"
      ],
      "metadata": {
        "id": "R1dlw4yx_NtL"
      }
    },
    {
      "cell_type": "code",
      "source": [
        "model.layers"
      ],
      "metadata": {
        "colab": {
          "base_uri": "https://localhost:8080/"
        },
        "id": "3N7bOIla_MSe",
        "outputId": "e94c7554-3725-4270-e645-fbfa8fe6d97b"
      },
      "execution_count": null,
      "outputs": [
        {
          "output_type": "execute_result",
          "data": {
            "text/plain": [
              "[<keras.layers.convolutional.conv2d.Conv2D at 0x7a2d12dbd9c0>,\n",
              " <keras.layers.pooling.max_pooling2d.MaxPooling2D at 0x7a2d12dbe560>,\n",
              " <keras.layers.convolutional.conv2d.Conv2D at 0x7a2d12f0b220>,\n",
              " <keras.layers.pooling.max_pooling2d.MaxPooling2D at 0x7a2d12dbdc00>,\n",
              " <keras.layers.reshaping.flatten.Flatten at 0x7a2d12dbe9b0>,\n",
              " <keras.layers.core.dense.Dense at 0x7a2d12dbf3d0>,\n",
              " <keras.layers.core.dense.Dense at 0x7a2d12dbd840>,\n",
              " <keras.layers.core.dense.Dense at 0x7a2d12dbd4b0>]"
            ]
          },
          "metadata": {},
          "execution_count": 47
        }
      ]
    },
    {
      "cell_type": "markdown",
      "source": [
        "**vou olhar a 1 camada convoluvional com o indico [0]**\n",
        "\n",
        "1 camada = <keras.layers.convolutional.conv2d.Conv2D at 0x7a2d12dbd9c0>,\n",
        "\n",
        "2 camada = <keras.layers.pooling.max_pooling2d.MaxPooling2D at 0x7a2d12dbe560>,\n",
        "\n",
        "3 camada =<keras.layers.convolutional.conv2d.Conv2D at 0x7a2d12f0b220>,\n",
        "\n",
        "4 camada =<keras.layers.pooling.max_pooling2d.MaxPooling2D at 0x7a2d12dbdc00>,\n",
        "\n",
        "5 camada = <keras.layers.reshaping.flatten.Flatten at 0x7a2d12dbe9b0>,\n",
        "\n",
        "6 camada = <keras.layers.core.dense.Dense at 0x7a2d12dbf3d0>,\n",
        "\n",
        "7 camada = <keras.layers.core.dense.Dense at 0x7a2d12dbd840>,\n",
        "\n",
        "8 camada = <keras.layers.core.dense.Dense at 0x7a2d12dbd4b0>]"
      ],
      "metadata": {
        "id": "AGCK4885_rl0"
      }
    },
    {
      "cell_type": "code",
      "source": [
        "# vou olhar a 1 camada convoluvional com o indico [0]\n",
        "conv = model.layers [0]"
      ],
      "metadata": {
        "id": "-KTeKyo__gpy"
      },
      "execution_count": null,
      "outputs": []
    },
    {
      "cell_type": "code",
      "source": [
        "conv.weights [0]"
      ],
      "metadata": {
        "colab": {
          "base_uri": "https://localhost:8080/"
        },
        "id": "DW9ZT1_sA0fk",
        "outputId": "af6f000d-1b9c-4207-95a2-bb27d111d467"
      },
      "execution_count": null,
      "outputs": [
        {
          "output_type": "execute_result",
          "data": {
            "text/plain": [
              "<tf.Variable 'conv2d_6/kernel:0' shape=(3, 3, 1, 6) dtype=float32, numpy=\n",
              "array([[[[ 0.11056554, -0.03762403,  0.203305  ,  0.38013682,\n",
              "           0.16076888,  0.0430127 ]],\n",
              "\n",
              "        [[-0.20138761, -0.10900144, -0.04004975, -0.07458802,\n",
              "          -0.05406423,  0.19372796]],\n",
              "\n",
              "        [[-0.39515716, -0.22102611,  0.19645932, -0.30147702,\n",
              "           0.05213628, -0.3853311 ]]],\n",
              "\n",
              "\n",
              "       [[[ 0.03295804, -0.2019432 , -0.21805747, -0.3071399 ,\n",
              "           0.05371992,  0.00799211]],\n",
              "\n",
              "        [[-0.3066595 , -0.37562603,  0.09621727,  0.1515268 ,\n",
              "          -0.10926247,  0.4523213 ]],\n",
              "\n",
              "        [[-0.4600819 , -0.25755265,  0.08838989,  0.27351314,\n",
              "          -0.18922321, -0.4634895 ]]],\n",
              "\n",
              "\n",
              "       [[[ 0.1733279 , -0.14249946,  0.05602879, -0.4785775 ,\n",
              "          -0.10497468,  0.29131794]],\n",
              "\n",
              "        [[ 0.3520475 , -0.40821433,  0.30222195, -0.0697185 ,\n",
              "          -0.173626  , -0.09718668]],\n",
              "\n",
              "        [[-0.02066403, -0.16164403, -0.21456297,  0.42684263,\n",
              "          -0.4786449 , -0.02591607]]]], dtype=float32)>"
            ]
          },
          "metadata": {},
          "execution_count": 50
        }
      ]
    },
    {
      "cell_type": "code",
      "source": [],
      "metadata": {
        "id": "ZwMs4gbGEgWr"
      },
      "execution_count": null,
      "outputs": []
    },
    {
      "cell_type": "markdown",
      "source": [
        "**Usando uma camada convolucional já pre treinada**"
      ],
      "metadata": {
        "id": "c38GViphARiK"
      }
    },
    {
      "cell_type": "code",
      "source": [
        "x=X_train_norm[0].reshape(1, 28, 28, 1)\n",
        "plt.imshow(X_train_norm[0], cmap='gray')\n",
        "output_img = conv(x)\n",
        "output_img = output_img.numpy()\n",
        "output_img = output_img.reshape(26,26)\n",
        "plt.imshow(output_img, cmap='gray')\n",
        "plt.title('output image')\n"
      ],
      "metadata": {
        "colab": {
          "base_uri": "https://localhost:8080/",
          "height": 648
        },
        "id": "wft2j3eZAjd3",
        "outputId": "24bef2ad-4342-47d6-f6ba-92d9fb8b04b9"
      },
      "execution_count": null,
      "outputs": [
        {
          "output_type": "error",
          "ename": "ValueError",
          "evalue": "ignored",
          "traceback": [
            "\u001b[0;31m---------------------------------------------------------------------------\u001b[0m",
            "\u001b[0;31mValueError\u001b[0m                                Traceback (most recent call last)",
            "\u001b[0;32m<ipython-input-52-be57ed6eff59>\u001b[0m in \u001b[0;36m<cell line: 5>\u001b[0;34m()\u001b[0m\n\u001b[1;32m      3\u001b[0m \u001b[0moutput_img\u001b[0m \u001b[0;34m=\u001b[0m \u001b[0mconv\u001b[0m\u001b[0;34m(\u001b[0m\u001b[0mx\u001b[0m\u001b[0;34m)\u001b[0m\u001b[0;34m\u001b[0m\u001b[0;34m\u001b[0m\u001b[0m\n\u001b[1;32m      4\u001b[0m \u001b[0moutput_img\u001b[0m \u001b[0;34m=\u001b[0m \u001b[0moutput_img\u001b[0m\u001b[0;34m.\u001b[0m\u001b[0mnumpy\u001b[0m\u001b[0;34m(\u001b[0m\u001b[0;34m)\u001b[0m\u001b[0;34m\u001b[0m\u001b[0;34m\u001b[0m\u001b[0m\n\u001b[0;32m----> 5\u001b[0;31m \u001b[0moutput_img\u001b[0m \u001b[0;34m=\u001b[0m \u001b[0moutput_img\u001b[0m\u001b[0;34m.\u001b[0m\u001b[0mreshape\u001b[0m\u001b[0;34m(\u001b[0m\u001b[0;36m26\u001b[0m\u001b[0;34m,\u001b[0m\u001b[0;36m26\u001b[0m\u001b[0;34m)\u001b[0m\u001b[0;34m\u001b[0m\u001b[0;34m\u001b[0m\u001b[0m\n\u001b[0m\u001b[1;32m      6\u001b[0m \u001b[0mplt\u001b[0m\u001b[0;34m.\u001b[0m\u001b[0mimshow\u001b[0m\u001b[0;34m(\u001b[0m\u001b[0moutput_img\u001b[0m\u001b[0;34m,\u001b[0m \u001b[0mcmap\u001b[0m\u001b[0;34m=\u001b[0m\u001b[0;34m'gray'\u001b[0m\u001b[0;34m)\u001b[0m\u001b[0;34m\u001b[0m\u001b[0;34m\u001b[0m\u001b[0m\n\u001b[1;32m      7\u001b[0m \u001b[0mplt\u001b[0m\u001b[0;34m.\u001b[0m\u001b[0mtitle\u001b[0m\u001b[0;34m(\u001b[0m\u001b[0;34m'output image'\u001b[0m\u001b[0;34m)\u001b[0m\u001b[0;34m\u001b[0m\u001b[0;34m\u001b[0m\u001b[0m\n",
            "\u001b[0;31mValueError\u001b[0m: cannot reshape array of size 4056 into shape (26,26)"
          ]
        },
        {
          "output_type": "display_data",
          "data": {
            "text/plain": [
              "<Figure size 640x480 with 1 Axes>"
            ],
            "image/png": "[encoded data removed]"
          },
          "metadata": {}
        }
      ]
    }
  ]
}